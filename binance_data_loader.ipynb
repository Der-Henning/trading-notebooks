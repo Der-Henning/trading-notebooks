{
 "cells": [
  {
   "cell_type": "markdown",
   "id": "fbeae927-a47a-45cc-878b-10c16cf46399",
   "metadata": {},
   "source": [
    "# Imports"
   ]
  },
  {
   "cell_type": "code",
   "execution_count": 1,
   "id": "99c50251-215e-46dd-b171-5b634c8424d0",
   "metadata": {},
   "outputs": [],
   "source": [
    "from binance import Client\n",
    "import pandas as pd\n",
    "import numpy as np\n",
    "import os\n",
    "from datetime import datetime\n",
    "import mplfinance as mpf"
   ]
  },
  {
   "cell_type": "markdown",
   "id": "f731fa72-e310-4e22-9255-dfb574c1857c",
   "metadata": {},
   "source": [
    "# Settings"
   ]
  },
  {
   "cell_type": "code",
   "execution_count": 2,
   "id": "c9271454-d249-4c72-a59e-7ecf09a65616",
   "metadata": {},
   "outputs": [],
   "source": [
    "symbol         = \"BTCUSDT\"\n",
    "interval       = Client.KLINE_INTERVAL_4HOUR\n",
    "start          = datetime(2020, 1, 1)\n",
    "end            = datetime(2020, 1, 5)\n",
    "binance_key    = \"xxxxxxxxxx\"\n",
    "binance_secret = \"xxxxxxxxxx\""
   ]
  },
  {
   "cell_type": "markdown",
   "id": "30d123d7-5340-4292-b09b-ac56e79d4a7e",
   "metadata": {},
   "source": [
    "# Load Data"
   ]
  },
  {
   "cell_type": "code",
   "execution_count": 3,
   "id": "de501bbb-4fd2-4a52-b05b-7c92dd141557",
   "metadata": {},
   "outputs": [],
   "source": [
    "start = start.strftime(\"%d%b%-y\")\n",
    "end = end.strftime(\"%d%b%-y\")\n",
    "filename = \"{}_{}_{}-{}\".format(symbol, str(interval), start, end)\n",
    "client = Client(binance_key, binance_secret)"
   ]
  },
  {
   "cell_type": "code",
   "execution_count": 4,
   "id": "dccb2dc7-b3f5-4e25-8b48-371d7bf03e25",
   "metadata": {},
   "outputs": [
    {
     "data": {
      "text/html": [
       "<div>\n",
       "<style scoped>\n",
       "    .dataframe tbody tr th:only-of-type {\n",
       "        vertical-align: middle;\n",
       "    }\n",
       "\n",
       "    .dataframe tbody tr th {\n",
       "        vertical-align: top;\n",
       "    }\n",
       "\n",
       "    .dataframe thead th {\n",
       "        text-align: right;\n",
       "    }\n",
       "</style>\n",
       "<table border=\"1\" class=\"dataframe\">\n",
       "  <thead>\n",
       "    <tr style=\"text-align: right;\">\n",
       "      <th></th>\n",
       "      <th>open</th>\n",
       "      <th>high</th>\n",
       "      <th>low</th>\n",
       "      <th>close</th>\n",
       "      <th>volume</th>\n",
       "      <th>close_time</th>\n",
       "      <th>quote_asset_volume</th>\n",
       "      <th>number_trades</th>\n",
       "      <th>taker_buy_base_asset_volume</th>\n",
       "      <th>taker_buy_quote_asset_volume</th>\n",
       "    </tr>\n",
       "    <tr>\n",
       "      <th>time</th>\n",
       "      <th></th>\n",
       "      <th></th>\n",
       "      <th></th>\n",
       "      <th></th>\n",
       "      <th></th>\n",
       "      <th></th>\n",
       "      <th></th>\n",
       "      <th></th>\n",
       "      <th></th>\n",
       "      <th></th>\n",
       "    </tr>\n",
       "  </thead>\n",
       "  <tbody>\n",
       "    <tr>\n",
       "      <th>2020-01-01 00:00:00</th>\n",
       "      <td>7195.24</td>\n",
       "      <td>7245.00</td>\n",
       "      <td>7175.46</td>\n",
       "      <td>7225.01</td>\n",
       "      <td>2833.749180</td>\n",
       "      <td>2020-01-01 03:59:59.999</td>\n",
       "      <td>2.044590e+07</td>\n",
       "      <td>32476</td>\n",
       "      <td>1548.865619</td>\n",
       "      <td>1.117659e+07</td>\n",
       "    </tr>\n",
       "    <tr>\n",
       "      <th>2020-01-01 04:00:00</th>\n",
       "      <td>7225.00</td>\n",
       "      <td>7236.27</td>\n",
       "      <td>7199.11</td>\n",
       "      <td>7209.83</td>\n",
       "      <td>2061.295051</td>\n",
       "      <td>2020-01-01 07:59:59.999</td>\n",
       "      <td>1.489018e+07</td>\n",
       "      <td>29991</td>\n",
       "      <td>1049.711236</td>\n",
       "      <td>7.582850e+06</td>\n",
       "    </tr>\n",
       "    <tr>\n",
       "      <th>2020-01-01 08:00:00</th>\n",
       "      <td>7209.83</td>\n",
       "      <td>7237.73</td>\n",
       "      <td>7180.00</td>\n",
       "      <td>7197.20</td>\n",
       "      <td>3166.654361</td>\n",
       "      <td>2020-01-01 11:59:59.999</td>\n",
       "      <td>2.280732e+07</td>\n",
       "      <td>33507</td>\n",
       "      <td>1562.344314</td>\n",
       "      <td>1.125370e+07</td>\n",
       "    </tr>\n",
       "    <tr>\n",
       "      <th>2020-01-01 12:00:00</th>\n",
       "      <td>7197.20</td>\n",
       "      <td>7255.00</td>\n",
       "      <td>7196.15</td>\n",
       "      <td>7234.19</td>\n",
       "      <td>3492.537459</td>\n",
       "      <td>2020-01-01 15:59:59.999</td>\n",
       "      <td>2.523556e+07</td>\n",
       "      <td>36549</td>\n",
       "      <td>2086.279119</td>\n",
       "      <td>1.507671e+07</td>\n",
       "    </tr>\n",
       "    <tr>\n",
       "      <th>2020-01-01 16:00:00</th>\n",
       "      <td>7234.20</td>\n",
       "      <td>7249.99</td>\n",
       "      <td>7214.00</td>\n",
       "      <td>7229.48</td>\n",
       "      <td>2980.583291</td>\n",
       "      <td>2020-01-01 19:59:59.999</td>\n",
       "      <td>2.156177e+07</td>\n",
       "      <td>32877</td>\n",
       "      <td>1673.060594</td>\n",
       "      <td>1.210416e+07</td>\n",
       "    </tr>\n",
       "  </tbody>\n",
       "</table>\n",
       "</div>"
      ],
      "text/plain": [
       "                        open     high      low    close       volume  \\\n",
       "time                                                                   \n",
       "2020-01-01 00:00:00  7195.24  7245.00  7175.46  7225.01  2833.749180   \n",
       "2020-01-01 04:00:00  7225.00  7236.27  7199.11  7209.83  2061.295051   \n",
       "2020-01-01 08:00:00  7209.83  7237.73  7180.00  7197.20  3166.654361   \n",
       "2020-01-01 12:00:00  7197.20  7255.00  7196.15  7234.19  3492.537459   \n",
       "2020-01-01 16:00:00  7234.20  7249.99  7214.00  7229.48  2980.583291   \n",
       "\n",
       "                                 close_time  quote_asset_volume  \\\n",
       "time                                                              \n",
       "2020-01-01 00:00:00 2020-01-01 03:59:59.999        2.044590e+07   \n",
       "2020-01-01 04:00:00 2020-01-01 07:59:59.999        1.489018e+07   \n",
       "2020-01-01 08:00:00 2020-01-01 11:59:59.999        2.280732e+07   \n",
       "2020-01-01 12:00:00 2020-01-01 15:59:59.999        2.523556e+07   \n",
       "2020-01-01 16:00:00 2020-01-01 19:59:59.999        2.156177e+07   \n",
       "\n",
       "                     number_trades  taker_buy_base_asset_volume  \\\n",
       "time                                                              \n",
       "2020-01-01 00:00:00          32476                  1548.865619   \n",
       "2020-01-01 04:00:00          29991                  1049.711236   \n",
       "2020-01-01 08:00:00          33507                  1562.344314   \n",
       "2020-01-01 12:00:00          36549                  2086.279119   \n",
       "2020-01-01 16:00:00          32877                  1673.060594   \n",
       "\n",
       "                     taker_buy_quote_asset_volume  \n",
       "time                                               \n",
       "2020-01-01 00:00:00                  1.117659e+07  \n",
       "2020-01-01 04:00:00                  7.582850e+06  \n",
       "2020-01-01 08:00:00                  1.125370e+07  \n",
       "2020-01-01 12:00:00                  1.507671e+07  \n",
       "2020-01-01 16:00:00                  1.210416e+07  "
      ]
     },
     "metadata": {},
     "output_type": "display_data"
    }
   ],
   "source": [
    "klines = client.get_historical_klines(symbol, interval, start, end)\n",
    "data = np.array(klines)\n",
    "df = pd.DataFrame({\n",
    "    'time': pd.to_datetime(data[:, 0], unit='ms'),\n",
    "    'open': pd.to_numeric(data[:, 1]),\n",
    "    'high': pd.to_numeric(data[:, 2]),\n",
    "    'low': pd.to_numeric(data[:, 3]),\n",
    "    'close': pd.to_numeric(data[:, 4]),\n",
    "    'volume': pd.to_numeric(data[:, 5]),\n",
    "    'close_time': pd.to_datetime(data[:, 6], unit='ms'),\n",
    "    'quote_asset_volume': pd.to_numeric(data[:, 7]),\n",
    "    'number_trades': pd.to_numeric(data[:, 8]),\n",
    "    'taker_buy_base_asset_volume': pd.to_numeric(data[:, 9]),\n",
    "    'taker_buy_quote_asset_volume': pd.to_numeric(data[:, 10])\n",
    "})\n",
    "df = df.set_index(\"time\")\n",
    "if not os.path.exists(\"./data/klines/{}\".format(symbol)):\n",
    "    os.mkdir(\"./data/klines/{}\".format(symbol))\n",
    "df.to_pickle(\"./data/klines/{}/{}.pkl\".format(symbol, filename))\n",
    "display(df.head(5))"
   ]
  },
  {
   "cell_type": "code",
   "execution_count": 5,
   "id": "e111116d-a3ec-4a73-a874-17440256cf4e",
   "metadata": {},
   "outputs": [
    {
     "data": {
      "image/png": "[encoded data removed]",
      "text/plain": [
       "<Figure size 800x575 with 4 Axes>"
      ]
     },
     "metadata": {},
     "output_type": "display_data"
    }
   ],
   "source": [
    "mpf.plot(df,type='candle',volume=True)"
   ]
  }
 ],
 "metadata": {
  "kernelspec": {
   "display_name": "trader_kernel",
   "language": "python",
   "name": "trader_kernel"
  },
  "language_info": {
   "codemirror_mode": {
    "name": "ipython",
    "version": 3
   },
   "file_extension": ".py",
   "mimetype": "text/x-python",
   "name": "python",
   "nbconvert_exporter": "python",
   "pygments_lexer": "ipython3",
   "version": "3.7.11"
  }
 },
 "nbformat": 4,
 "nbformat_minor": 5
}
